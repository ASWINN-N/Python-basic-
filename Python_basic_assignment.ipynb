{
  "nbformat": 4,
  "nbformat_minor": 0,
  "metadata": {
    "colab": {
      "provenance": []
    },
    "kernelspec": {
      "name": "python3",
      "display_name": "Python 3"
    },
    "language_info": {
      "name": "python"
    }
  },
  "cells": [
    {
      "cell_type": "markdown",
      "source": [
        "# Python Basics Questions"
      ],
      "metadata": {
        "id": "8yRpEB70SZCw"
      }
    },
    {
      "cell_type": "markdown",
      "source": [
        "1.What is Python, and why is it popular?\n",
        "\n",
        "Python is a high-level, interpreted, and general-purpose programming language known for its readable syntax and versatility.\n",
        "\n",
        "Reasons for popularity:\n",
        "\n",
        "- Easy to learn (simple syntax close to English)\n",
        "- Large standard library & community support\n",
        "- Cross-platform compatibility\n",
        "- Supports multiple paradigms (OOP, procedural, functional)\n",
        "- Widely used in AI, data science, web dev, automation, etc.\n",
        "\n",
        "\n",
        "2.What is an interpreter in Python?\n",
        "\n",
        "The Python interpreter is a program that executes Python code line-by-line.\n",
        "It converts Python source code into machine-readable form at runtime, making Python an interpreted language.\n",
        "\n",
        "\n",
        "3.What are pre-defined keywords in Python?\n",
        "\n",
        "Keywords are reserved words in Python that have predefined meanings and cannot be used as identifiers (variable names).\n",
        "Examples: if, else, while, True, False, None.\n",
        "\n",
        "\n",
        "4.Can keywords be used as variable names?\n",
        "\n",
        "No, Python will throw a SyntaxError if you try to use a keyword as a variable name.\n",
        "\n",
        "\n",
        "5.What is mutability in Python?\n",
        "\n",
        "Mutability means the ability of an object to be changed after creation.\n",
        "\n",
        "- Mutable objects: Can be modified in place (e.g., list, dict, set)\n",
        "\n",
        "- Immutable objects: Cannot be modified (e.g., tuple, str, int)\n",
        "\n",
        "\n",
        "6.Why are lists mutable, but tuples are immutable?\n",
        "\n",
        "Lists store references to elements and allow modification (adding, removing, updating).\n",
        "\n",
        "Tuples are designed to be fixed collections of items for safety & performance, so their structure cannot change.\n",
        "\n",
        "\n",
        "7.Difference between == and is operators in Python\n",
        "\n",
        "- == → Compares values (checks if data is equal)\n",
        "\n",
        "- is → Compares identities (checks if two variables refer to the same object in memory)\n",
        "\n",
        "a = [1, 2]\n",
        "\n",
        "b = [1, 2]\n",
        "\n",
        "print(a == b)  # True (values equal)\n",
        "\n",
        "print(a is b)  # False (different objects)\n",
        "\n",
        "\n",
        "\n",
        "8.What are logical operators in Python?\n",
        "\n",
        "Logical operators are used to combine conditional statements:\n",
        "\n",
        "- and → True if both conditions are true\n",
        "- or → True if at least one condition is true\n",
        "- not → Inverts the condition\n",
        "\n",
        "\n",
        "9.What is type casting in Python?\n",
        "\n",
        "Type casting is converting one data type into another.\n",
        "\n",
        "\n",
        "10.Difference between implicit and explicit type casting\n",
        "\n",
        "- Implicit: Done automatically by Python (e.g., int + float → float)\n",
        "\n",
        "- Explicit: Done manually using functions like int(), float(), str()\n",
        "\n",
        "\n",
        "11.Purpose of conditional statements in Python\n",
        "\n",
        "Conditional statements control program flow by executing certain code blocks only if a condition is true.\n",
        "\n",
        "\n",
        "12.How does the elif statement work?\n",
        "\n",
        "elif lets you check multiple conditions without nesting multiple if statements.\n",
        "Only the first matching condition executes.\n",
        "\n",
        "\n",
        "13.Difference between for and while loops\n",
        "\n",
        "- for: Used when the number of iterations is known or iterating over a sequence.\n",
        "\n",
        "- while: Used when the number of iterations is unknown and depends on a condition.\n",
        "\n",
        "\n",
        "14.Describe a scenario where a while loop is more suitable than a for loop.\n",
        "\n",
        "A while loop is more suitable when the number of iterations is unknown and depends on a condition — for example, repeatedly asking the user to guess a secret number until they get it right:"
      ],
      "metadata": {
        "id": "zHO8vM-XOCWB"
      }
    },
    {
      "cell_type": "code",
      "source": [
        "secret = 7\n",
        "guess = None\n",
        "\n",
        "while guess != secret:\n",
        "    guess = int(input(\"Guess the number: \"))\n",
        "    if guess != secret:\n",
        "        print(\"Wrong, try again!\")\n",
        "\n",
        "print(\"Correct! You guessed it.\")\n"
      ],
      "metadata": {
        "id": "_QL7A0SRUgwQ"
      },
      "execution_count": null,
      "outputs": []
    },
    {
      "cell_type": "markdown",
      "source": [
        "# Practical questions\n",
        "\n",
        "\n"
      ],
      "metadata": {
        "id": "DLFscJszW_tU"
      }
    },
    {
      "cell_type": "markdown",
      "source": [
        "1. Write a Python program to print \"Hello, World!\""
      ],
      "metadata": {
        "id": "Y2mBPfhKZwIl"
      }
    },
    {
      "cell_type": "code",
      "source": [
        "print(\"Hello, World!\")\n"
      ],
      "metadata": {
        "id": "uHkMIbChXPby"
      },
      "execution_count": null,
      "outputs": []
    },
    {
      "cell_type": "markdown",
      "source": [
        "2. Write a Python program that displays your name and age"
      ],
      "metadata": {
        "id": "wEDZJDlHXVqn"
      }
    },
    {
      "cell_type": "code",
      "source": [
        "name = \"Aswin\"\n",
        "age = 25\n",
        "print(\"Name:\", name)\n",
        "print(\"Age:\", age)\n"
      ],
      "metadata": {
        "id": "QPeMdzuVXeU-"
      },
      "execution_count": null,
      "outputs": []
    },
    {
      "cell_type": "markdown",
      "source": [
        "3. Write code to print all the pre-defined keywords in Python using the keyword library"
      ],
      "metadata": {
        "id": "b4umzJqDXhNy"
      }
    },
    {
      "cell_type": "code",
      "source": [
        "import keyword\n",
        "print(keyword.kwlist)\n"
      ],
      "metadata": {
        "id": "aMCSeVsiXlFa"
      },
      "execution_count": null,
      "outputs": []
    },
    {
      "cell_type": "markdown",
      "source": [
        "4. Write a program that checks if a given word is a Python keyword"
      ],
      "metadata": {
        "id": "hfxJSFenXoBc"
      }
    },
    {
      "cell_type": "code",
      "source": [
        "import keyword\n",
        "word = input(\"Enter a word: \")\n",
        "if keyword.iskeyword(word):\n",
        "    print(f\"{word} is a Python keyword.\")\n",
        "else:\n",
        "    print(f\"{word} is not a Python keyword.\")\n"
      ],
      "metadata": {
        "id": "3Q-QspBMXqo-"
      },
      "execution_count": null,
      "outputs": []
    },
    {
      "cell_type": "markdown",
      "source": [
        "5. Create a list and tuple in Python, and demonstrate how attempting to change an element works differently for each"
      ],
      "metadata": {
        "id": "eUUaYj9oXucw"
      }
    },
    {
      "cell_type": "code",
      "source": [
        "my_list = [1, 2, 3]\n",
        "my_tuple = (1, 2, 3)\n",
        "\n",
        "my_list[0] = 10  # Works for list\n",
        "print(\"Modified list:\", my_list)\n",
        "\n",
        "try:\n",
        "    my_tuple[0] = 10  # Will raise error for tuple\n",
        "except TypeError as e:\n",
        "    print(\"Tuple modification error:\", e)\n"
      ],
      "metadata": {
        "id": "3GNAcnpwXz6h"
      },
      "execution_count": null,
      "outputs": []
    },
    {
      "cell_type": "markdown",
      "source": [
        "6. Write a function to demonstrate the behavior of mutable and immutable arguments"
      ],
      "metadata": {
        "id": "0ib2NFRdYPA4"
      }
    },
    {
      "cell_type": "code",
      "source": [
        "def modify_list(lst):\n",
        "    lst.append(4)  # Mutable\n",
        "\n",
        "def modify_number(num):\n",
        "    num += 1  # Immutable\n",
        "\n",
        "a_list = [1, 2, 3]\n",
        "a_number = 5\n",
        "\n",
        "modify_list(a_list)\n",
        "modify_number(a_number)\n",
        "\n",
        "print(\"List after modification:\", a_list)\n",
        "print(\"Number after modification:\", a_number)\n"
      ],
      "metadata": {
        "id": "TQ0-nSFnYSHL"
      },
      "execution_count": null,
      "outputs": []
    },
    {
      "cell_type": "markdown",
      "source": [
        "7. Write a program that performs basic arithmetic operations on two user-input numbers"
      ],
      "metadata": {
        "id": "Wr6-pg_BZ8n3"
      }
    },
    {
      "cell_type": "code",
      "source": [
        "a = float(input(\"Enter first number: \"))\n",
        "b = float(input(\"Enter second number: \"))\n",
        "\n",
        "print(\"Sum:\", a + b)\n",
        "print(\"Difference:\", a - b)\n",
        "print(\"Product:\", a * b)\n",
        "print(\"Quotient:\", a / b)\n"
      ],
      "metadata": {
        "id": "5_hmtzLVZ9hr"
      },
      "execution_count": null,
      "outputs": []
    },
    {
      "cell_type": "markdown",
      "source": [
        "8. Write a program to demonstrate the use of logical operators"
      ],
      "metadata": {
        "id": "2PcwYpaKaAFR"
      }
    },
    {
      "cell_type": "code",
      "source": [
        "x = 5\n",
        "y = 10\n",
        "\n",
        "print(x > 2 and y > 5)  # True\n",
        "print(x > 10 or y > 5)  # True\n",
        "print(not(x == 5))      # False\n"
      ],
      "metadata": {
        "id": "wkAPZMHBaCTj"
      },
      "execution_count": null,
      "outputs": []
    },
    {
      "cell_type": "markdown",
      "source": [
        "9. Write a Python program to convert user input from string to integer, float, and boolean types"
      ],
      "metadata": {
        "id": "BXG5uRzEaEDs"
      }
    },
    {
      "cell_type": "code",
      "source": [
        "s = input(\"Enter a value: \")\n",
        "print(\"As integer:\", int(s))\n",
        "print(\"As float:\", float(s))\n",
        "print(\"As boolean:\", bool(s))\n"
      ],
      "metadata": {
        "id": "2k2CtC2MaFuS"
      },
      "execution_count": null,
      "outputs": []
    },
    {
      "cell_type": "markdown",
      "source": [
        "10. Write code to demonstrate type casting with list elements"
      ],
      "metadata": {
        "id": "bS_--uoTaHUm"
      }
    },
    {
      "cell_type": "code",
      "source": [
        "nums = [\"1\", \"2\", \"3\"]\n",
        "nums = list(map(int, nums))\n",
        "print(nums)\n"
      ],
      "metadata": {
        "id": "tNgqvdjFaJHd"
      },
      "execution_count": null,
      "outputs": []
    },
    {
      "cell_type": "markdown",
      "source": [
        "11. Write a program that checks if a number is positive, negative, or zero"
      ],
      "metadata": {
        "id": "arNjprrsaLKx"
      }
    },
    {
      "cell_type": "code",
      "source": [
        "num = float(input(\"Enter a number: \"))\n",
        "if num > 0:\n",
        "    print(\"Positive\")\n",
        "elif num < 0:\n",
        "    print(\"Negative\")\n",
        "else:\n",
        "    print(\"Zero\")\n"
      ],
      "metadata": {
        "id": "kfK8-e0VaNfg"
      },
      "execution_count": null,
      "outputs": []
    },
    {
      "cell_type": "markdown",
      "source": [
        "12. Write a for loop to print numbers from 1 to 10"
      ],
      "metadata": {
        "id": "wbFEZyHpaV9e"
      }
    },
    {
      "cell_type": "code",
      "source": [
        "for i in range(1, 11):\n",
        "    print(i)\n"
      ],
      "metadata": {
        "id": "ERawNlanaYAn"
      },
      "execution_count": null,
      "outputs": []
    },
    {
      "cell_type": "markdown",
      "source": [
        "13. Write a Python program to find the sum of all even numbers between 1 and 50"
      ],
      "metadata": {
        "id": "z0YzQLl6aZt3"
      }
    },
    {
      "cell_type": "code",
      "source": [
        "total = 0\n",
        "for i in range(2, 51, 2):\n",
        "    total += i\n",
        "print(\"Sum of even numbers:\", total)\n"
      ],
      "metadata": {
        "id": "W9a09IpYab4h"
      },
      "execution_count": null,
      "outputs": []
    },
    {
      "cell_type": "markdown",
      "source": [
        "14. Write a program to reverse a string using a while loop"
      ],
      "metadata": {
        "id": "w6ZE3F2Zadtm"
      }
    },
    {
      "cell_type": "code",
      "source": [
        "s = input(\"Enter a string: \")\n",
        "rev = \"\"\n",
        "i = len(s) - 1\n",
        "while i >= 0:\n",
        "    rev += s[i]\n",
        "    i -= 1\n",
        "print(\"Reversed string:\", rev)\n"
      ],
      "metadata": {
        "id": "3EtCm7A9agvb"
      },
      "execution_count": null,
      "outputs": []
    },
    {
      "cell_type": "markdown",
      "source": [
        "15. Write a Python program to calculate the factorial of a number provided by the user using a while loop"
      ],
      "metadata": {
        "id": "JbXfxwnObRGx"
      }
    },
    {
      "cell_type": "code",
      "source": [
        "n = int(input(\"Enter a number: \"))\n",
        "fact = 1\n",
        "i = 1\n",
        "while i <= n:\n",
        "    fact *= i\n",
        "    i += 1\n",
        "print(\"Factorial:\", fact)\n"
      ],
      "metadata": {
        "id": "L3fc1YOJbTwF"
      },
      "execution_count": null,
      "outputs": []
    }
  ]
}